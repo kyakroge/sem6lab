{
 "cells": [
  {
   "cell_type": "code",
   "execution_count": 5,
   "id": "08e57096",
   "metadata": {
    "scrolled": false
   },
   "outputs": [
    {
     "name": "stdout",
     "output_type": "stream",
     "text": [
      "Select an operation: \n",
      "1. Add\n",
      "2. Subtract\n",
      "3. Multiply\n",
      "4. Divide\n",
      "1\n",
      "Enter the first number:5\n",
      "Enter the second number:2\n",
      "7\n"
     ]
    }
   ],
   "source": [
    "# EXP 1(a): Basic Programming Examples - Simple Calculator\n",
    "\n",
    "# Aim: To create a python program for a simple calculator without using library functions\n",
    "\n",
    "# Algorithm: \n",
    "# Step 1: Get input from the user (choice corresponding to various operations like addition, subtraction, multiplication, division)\n",
    "# Step 2: Get 2 integer inputs from the user\n",
    "# Step 3: Perform the operations based on the user's choice\n",
    "# Step 4: Print the output\n",
    "# Step 5: Stop\n",
    "\n",
    "# Program\n",
    "def add(a, b):\n",
    "    return a + b\n",
    "def sub(a, b):\n",
    "    return a - b\n",
    "def mul(a, b):\n",
    "    return a * b\n",
    "def div(a, b):\n",
    "    return a / b\n",
    "print(\"\"\"Select an operation: \n",
    "1. Add\n",
    "2. Subtract\n",
    "3. Multiply\n",
    "4. Divide\"\"\")\n",
    "choice = input()\n",
    "\n",
    "num1 = int(input(\"Enter the first number:\"))\n",
    "num2 = int(input(\"Enter the second number:\"))\n",
    "\n",
    "if choice == '1':\n",
    "    print(add(num1, num2))\n",
    "elif choice == '2':\n",
    "    print(sub(num1, num2))\n",
    "elif choice == '3':\n",
    "    print(mul(num1, num2))\n",
    "elif choice == '4':\n",
    "    print(div(num1, num2))\n",
    "else:\n",
    "    print(\"Invalid Input\")"
   ]
  },
  {
   "cell_type": "code",
   "execution_count": 6,
   "id": "e61739ff",
   "metadata": {},
   "outputs": [
    {
     "name": "stdout",
     "output_type": "stream",
     "text": [
      "Enter lower range: 100\n",
      "Enter upper range: 500\n",
      "125\n",
      "153\n",
      "216\n",
      "370\n",
      "371\n",
      "407\n"
     ]
    }
   ],
   "source": [
    "# EXP 1(b): Basic Programming Examples - Armstrong Numbers\n",
    "\n",
    "# Aim: To create a python program to generate armstrong numbers\n",
    "\n",
    "# Algorithm: \n",
    "# Step 1: Take the numbers as input from the user\n",
    "# Step 2: Determine the number of digits, say it is n\n",
    "# Step 3: Extract each digit from the number using a loop. Now raise each of these digits to the power n\n",
    "# Step 4: Keep adding the nth power of these digits in a variable, say sum\n",
    "# Step 5: Once the sum of all the nth power of the digits is obtained, the loop terminates. If both are equal, then it is an armstrong number and is printed\n",
    "\n",
    "# Program\n",
    "lower = int(input(\"Enter lower range: \"))\n",
    "upper = int(input(\"Enter upper range: \"))\n",
    "\n",
    "for num in range(lower, upper + 1):\n",
    "    sum = 0\n",
    "    temp = num\n",
    "    while temp > 0:\n",
    "        digit = temp % 10\n",
    "        sum += digit ** 3\n",
    "        temp //= 10\n",
    "        if num == sum:\n",
    "            print(num)"
   ]
  },
  {
   "cell_type": "code",
   "execution_count": 8,
   "id": "29608bfc",
   "metadata": {},
   "outputs": [
    {
     "name": "stdout",
     "output_type": "stream",
     "text": [
      "Enter an input:5\n",
      "Fibonacci Series: 0 1123"
     ]
    }
   ],
   "source": [
    "# EXP 1(c): Basic Programming Examples - Fibonacci Series\n",
    "\n",
    "# Aim: To create a python program to generate Fibonacci series\n",
    "\n",
    "# Algorithm: \n",
    "# Step 1: Input the 'n' value until the Fibonacci series has been generated\n",
    "# Step 2: Initialize sum = 0, a = 0, b = 1 and count = 1\n",
    "# Step 3: while (count <= n), print sum\n",
    "# Step 4: Increment the count variable\n",
    "# Step 5: Swap a & b\n",
    "# Step 6: sum = a + b\n",
    "# Step 7: while(count > n), end algorithm\n",
    "# Step 8: Else, repeat from steps 3 to 6\n",
    "# Step 9: Stop\n",
    "\n",
    "# Program\n",
    "n=input(\"Enter an input: \")\n",
    "a,b=0,1\n",
    "count=1\n",
    "print(\"Fibonacci Series:\",a, b, end = \"\")\n",
    "while(int(n) > count+1):\n",
    "    sum = a + b\n",
    "    print(sum, end=\"\")\n",
    "    a,b = b, sum\n",
    "    count += 1"
   ]
  },
  {
   "cell_type": "code",
   "execution_count": null,
   "id": "e73b6954",
   "metadata": {},
   "outputs": [],
   "source": [
    "# EXP 1(d): Basic Programming Examples - Import Functions as Modules\n",
    "\n",
    "# Aim: To create a python program to import functions as modules\n",
    "\n",
    "# Algorithm: \n",
    "# Step 1: Start\n",
    "# Step 2: Create example module script files\n",
    "# Step 3: Define relevant functions\n",
    "# Step 4: Create main script files\n",
    "# Step 5: Declare necessary variables\n",
    "# Step 6: Import example module file\n",
    "# Step 7: Print the output\n",
    "# Step 8: Stop\n",
    "\n",
    "# Program\n",
    "\n",
    "#expt.py\n",
    "import example\n",
    "\n",
    "ans = example.add(4,5)\n",
    "print(\"Result: \", ans)\n",
    "\n",
    "#example.py\n",
    "def add(a,b):\n",
    "    result = a+b\n",
    "    return result\n",
    "\n",
    "# Output\n",
    "# Result: 9"
   ]
  },
  {
   "cell_type": "code",
   "execution_count": 2,
   "id": "eb00c643",
   "metadata": {},
   "outputs": [
    {
     "name": "stdout",
     "output_type": "stream",
     "text": [
      "Original Substrings:  @X5Something.whatever\n",
      "In Uppercase character:  2\n",
      "Lowercase characters:  16\n",
      "Number case:  1\n",
      "Special case character:  2\n"
     ]
    }
   ],
   "source": [
    "# EXP 1(e): Basic Programming Examples - Counting Symbols\n",
    "\n",
    "# Aim: To create a python program to count the special characters, alphabets, digits, lowercase and uppercase characters\n",
    "\n",
    "# Algorithm: \n",
    "# Step 1: Start\n",
    "# Step 2: Declare necessary files and variables\n",
    "# Step 3: Read the input string\n",
    "# Step 4: Count the no. of special characrters\n",
    "# Step 5: Print the output\n",
    "# Step 6: Stop\n",
    "\n",
    "# Program\n",
    "def countStuff(str):\n",
    "    upper_ctr, lower_ctr, number_ctr, special_ctr = 0,0,0,0\n",
    "    for i in range(len(str)):\n",
    "        if str[i] >= 'A' and str[i] <= 'Z' : upper_ctr += 1\n",
    "        elif str[i] >= 'a' and str[i] <= 'z' : lower_ctr += 1\n",
    "        elif str[i] >= '0' and str[i] <= '9' : number_ctr += 1\n",
    "        else:\n",
    "            special_ctr += 1\n",
    "    return upper_ctr, lower_ctr, number_ctr, special_ctr\n",
    "\n",
    "str = \"@X5Something.whatever\"\n",
    "print(\"Original Substrings: \", str)\n",
    "u,l,n,s = countStuff(str)\n",
    "print(\"In Uppercase character: \",u)\n",
    "print(\"Lowercase characters: \",l)\n",
    "print(\"Number case: \", n)\n",
    "print(\"Special case character: \", s)"
   ]
  },
  {
   "cell_type": "code",
   "execution_count": 1,
   "id": "12c0893c",
   "metadata": {},
   "outputs": [
    {
     "name": "stdout",
     "output_type": "stream",
     "text": [
      "Select an operation: \n",
      "1.Add\n",
      "2.Subtract\n",
      "3.Multiply\n",
      "4.Divide\n",
      "1\n",
      "Enter the first number: 5\n",
      "Enter the second number: 8\n",
      "13\n"
     ]
    }
   ],
   "source": [
    "# EXP 1(f): Basic Programming Examples - Calculator using Library Functions\n",
    "\n",
    "# Aim: To create a python program for a simple calculator using library functions\n",
    "\n",
    "# Algorithm:\n",
    "# Step 1: Start\n",
    "# Step 2: Get input from the user (choice corresponding to various operations like addition, subtraction, multiplication, division)\n",
    "# Step 3: Get 2 integer inputs from the user\n",
    "# Step 4: Perform the operations based on the user's choice\n",
    "# Step 5: Print the output\n",
    "# Step 6: Stop\n",
    "\n",
    "# Program\n",
    "import numpy\n",
    "\n",
    "print(\"Select an operation: \")\n",
    "print(\"1.Add\")\n",
    "print(\"2.Subtract\")\n",
    "print(\"3.Multiply\")\n",
    "print(\"4.Divide\")\n",
    "\n",
    "choice = input()\n",
    "\n",
    "num1=int(input(\"Enter the first number: \"))\n",
    "num2=int(input(\"Enter the second number: \"))\n",
    "\n",
    "if choice == '1':\n",
    "    print(numpy.add(num1, num2))\n",
    "elif choice == '2':\n",
    "    print(numpy.subtract(num1, num2))\n",
    "elif choice == '3':\n",
    "    print(numpy.multiply(num1, num2))\n",
    "elif choice == '4':\n",
    "    print(numpy.divide(num1, num2))\n",
    "else:\n",
    "    print(\"Invalid Input\")"
   ]
  },
  {
   "cell_type": "code",
   "execution_count": null,
   "id": "d89c6c2a",
   "metadata": {},
   "outputs": [],
   "source": []
  }
 ],
 "metadata": {
  "kernelspec": {
   "display_name": "Python 3 (ipykernel)",
   "language": "python",
   "name": "python3"
  },
  "language_info": {
   "codemirror_mode": {
    "name": "ipython",
    "version": 3
   },
   "file_extension": ".py",
   "mimetype": "text/x-python",
   "name": "python",
   "nbconvert_exporter": "python",
   "pygments_lexer": "ipython3",
   "version": "3.9.13"
  }
 },
 "nbformat": 4,
 "nbformat_minor": 5
}
