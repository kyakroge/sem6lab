{
 "cells": [
  {
   "cell_type": "code",
   "execution_count": 1,
   "id": "d49c9ee0",
   "metadata": {},
   "outputs": [
    {
     "name": "stdout",
     "output_type": "stream",
     "text": [
      "['0', '1', '0', '1', '1', '1', '0', '1', '0', '1', '0', '0', '0', '1', '1', '1', '0', '1', '1', '0']\n",
      "['0', '0', '0', '0', '1', '0', '1', '1', '1', '1', '0', '0', '0', '0', '0', '1', '0', '1', '1', '0']\n",
      "Confusion Matrix :  [6, 7, 5, 2]\n",
      "ACCURACY :  0.65\n",
      "PRECISION :  0.5454545454545454\n",
      "RECALL :  0.75\n",
      "SENSITIVITY :  0.75\n",
      "SPECIFICITY :  0.5833333333333334\n",
      "MISCLASSIFICATION ERROR :  0.35\n"
     ]
    }
   ],
   "source": [
    "y=['0','1','0','1','1','1','0','1','0','1','0','0','0','1','1','1','0','1','1','0']\n",
    "y_pred = ['0','0','0','0','1','0','1','1','1','1','0','0','0','0','0','1','0','1','1','0']\n",
    "print (y)\n",
    "print(y_pred)\n",
    "\n",
    "j=0\n",
    "TP,TN,FP,FN = 0,0,0,0\n",
    "for i in y:\n",
    "  if i == '1' and y_pred[j] =='1':\n",
    "    TP +=1\n",
    "  elif i == '0' and y_pred[j] =='0':\n",
    "    TN +=1\n",
    "  elif i == '1' and y_pred[j] =='0':\n",
    "    FP +=1\n",
    "  elif i == '0' and y_pred[j] =='1':\n",
    "    FN+=1\n",
    "  j+=1\n",
    "confusion_matrix = [TP,TN,FP,FN]\n",
    "print (\"Confusion Matrix : \", confusion_matrix)\n",
    "ACC = (TP+TN) / (TP+FP+TN+FN)\n",
    "print (\"ACCURACY : \", ACC)\n",
    "PREC = TP / (TP+FP)\n",
    "print (\"PRECISION : \", PREC)\n",
    "REC = TP / (TP+FN)\n",
    "print (\"RECALL : \", REC)\n",
    "SN = TP/ (TP+FN)\n",
    "print (\"SENSITIVITY : \", SN)\n",
    "SP = TN/ (TN+FP)\n",
    "print (\"SPECIFICITY : \", SP)\n",
    "MCE = 1-ACC\n",
    "print (\"MISCLASSIFICATION ERROR : \", MCE)"
   ]
  },
  {
   "cell_type": "code",
   "execution_count": null,
   "id": "45e7de89",
   "metadata": {},
   "outputs": [],
   "source": []
  }
 ],
 "metadata": {
  "kernelspec": {
   "display_name": "Python 3 (ipykernel)",
   "language": "python",
   "name": "python3"
  },
  "language_info": {
   "codemirror_mode": {
    "name": "ipython",
    "version": 3
   },
   "file_extension": ".py",
   "mimetype": "text/x-python",
   "name": "python",
   "nbconvert_exporter": "python",
   "pygments_lexer": "ipython3",
   "version": "3.9.13"
  }
 },
 "nbformat": 4,
 "nbformat_minor": 5
}
